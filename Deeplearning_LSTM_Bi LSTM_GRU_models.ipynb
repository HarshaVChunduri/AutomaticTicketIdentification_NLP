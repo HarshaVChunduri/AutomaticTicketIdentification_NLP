{
 "cells": [
  {
   "cell_type": "code",
   "execution_count": 1,
   "metadata": {
    "colab": {
     "base_uri": "https://localhost:8080/",
     "height": 121
    },
    "colab_type": "code",
    "id": "6cYXEzcQJNSx",
    "outputId": "15b84f3d-cb79-4c61-e268-8369d3054c8b"
   },
   "outputs": [
    {
     "name": "stdout",
     "output_type": "stream",
     "text": [
      "Go to this URL in a browser: https://accounts.google.com/o/oauth2/auth?client_id=947318989803-6bn6qk8qdgf4n4g3pfee6491hc0brc4i.apps.googleusercontent.com&redirect_uri=urn%3aietf%3awg%3aoauth%3a2.0%3aoob&response_type=code&scope=email%20https%3a%2f%2fwww.googleapis.com%2fauth%2fdocs.test%20https%3a%2f%2fwww.googleapis.com%2fauth%2fdrive%20https%3a%2f%2fwww.googleapis.com%2fauth%2fdrive.photos.readonly%20https%3a%2f%2fwww.googleapis.com%2fauth%2fpeopleapi.readonly\n",
      "\n",
      "Enter your authorization code:\n",
      "··········\n",
      "Mounted at /content/drive\n"
     ]
    }
   ],
   "source": [
    "from google.colab import drive\n",
    "drive.mount('/content/drive')"
   ]
  },
  {
   "cell_type": "code",
   "execution_count": 2,
   "metadata": {
    "colab": {},
    "colab_type": "code",
    "id": "Gd_tR1MJJZvn"
   },
   "outputs": [],
   "source": [
    "%%capture\n",
    "!pip install ftfy translate langdetect imbalanced-learn collections-extended rake_nltk googletrans"
   ]
  },
  {
   "cell_type": "code",
   "execution_count": 3,
   "metadata": {
    "colab": {},
    "colab_type": "code",
    "id": "X0l2TDFBkEdN"
   },
   "outputs": [],
   "source": [
    "import sys\n",
    "sys.path.insert(0,'/content/drive/My Drive/Colab Notebooks')"
   ]
  },
  {
   "cell_type": "markdown",
   "metadata": {
    "colab_type": "text",
    "id": "8dkAKo_vz41Q"
   },
   "source": [
    "# Step 1: Importing Dependencies"
   ]
  },
  {
   "cell_type": "code",
   "execution_count": 4,
   "metadata": {
    "colab": {
     "base_uri": "https://localhost:8080/",
     "height": 171
    },
    "colab_type": "code",
    "id": "MWBNGOtMjhU-",
    "outputId": "63a40c03-5e9d-45a7-8f75-bf92a2b908b2"
   },
   "outputs": [
    {
     "name": "stderr",
     "output_type": "stream",
     "text": [
      "/usr/local/lib/python3.6/dist-packages/statsmodels/tools/_testing.py:19: FutureWarning: pandas.util.testing is deprecated. Use the functions in the public API at pandas.testing instead.\n",
      "  import pandas.util.testing as tm\n",
      "/usr/local/lib/python3.6/dist-packages/sklearn/externals/six.py:31: FutureWarning: The module is deprecated in version 0.21 and will be removed in version 0.23 since we've dropped support for Python 2.7. Please rely on the official version of six (https://pypi.org/project/six/).\n",
      "  \"(https://pypi.org/project/six/).\", FutureWarning)\n",
      "/usr/local/lib/python3.6/dist-packages/sklearn/utils/deprecation.py:144: FutureWarning: The sklearn.neighbors.base module is  deprecated in version 0.22 and will be removed in version 0.24. The corresponding classes / functions should instead be imported from sklearn.neighbors. Anything that cannot be imported from sklearn.neighbors is now part of the private API.\n",
      "  warnings.warn(message, FutureWarning)\n",
      "Using TensorFlow backend.\n"
     ]
    },
    {
     "name": "stdout",
     "output_type": "stream",
     "text": [
      "TensorFlow is already loaded. Please restart the runtime to change versions.\n"
     ]
    }
   ],
   "source": [
    "# !pip install chart_studio\n",
    "# !pip install wordcloud\n",
    "# !pip install ftfy\n",
    "# !pip install rake_nltk\n",
    "# !pip install gensim \n",
    "# !pip install missingno\n",
    "# !pip install googletrans\n",
    "# !pip install langdetect\n",
    "# !pip install imblearn\n",
    "# !pip install collections2\n",
    "\n",
    "# Standard Library\n",
    "import pandas as pd\n",
    "import numpy as np\n",
    "\n",
    "from ftfy import *\n",
    "import nltk\n",
    "from rake_nltk import Rake\n",
    "\n",
    "import missingno as msno\n",
    "import matplotlib.pyplot as plt \n",
    "from wordcloud import WordCloud, STOPWORDS\n",
    "import seaborn as sns \n",
    "\n",
    "# For Translation\n",
    "from googletrans import Translator\n",
    "from langdetect import detect\n",
    "\n",
    "#For Upsampling\n",
    "import imblearn\n",
    "from collections import Counter\n",
    "from matplotlib import pyplot\n",
    "from numpy import where\n",
    "# from imblearn.over_sampling import SMOTE\n",
    "from imblearn.over_sampling import RandomOverSampler\n",
    "\n",
    "# Import label encoder \n",
    "from sklearn import preprocessing \n",
    "\n",
    "from sklearn.feature_extraction.text import TfidfVectorizer\n",
    "from sklearn.model_selection import train_test_split\n",
    "from sklearn.metrics import accuracy_score,f1_score,recall_score,precision_score, confusion_matrix, classification_report\n",
    "from sklearn.feature_extraction.text import CountVectorizer\n",
    "\n",
    "# Import Dependencies\n",
    "\n",
    "import os\n",
    "import re\n",
    "\n",
    "import tensorflow as tf\n",
    "from tensorflow.python.keras.preprocessing.text import Tokenizer\n",
    "from tensorflow.python.keras.preprocessing.sequence import pad_sequences\n",
    "\n",
    "import keras\n",
    "\n",
    "from keras import layers\n",
    "# For Embedding Layer\n",
    "from keras.layers.embeddings import Embedding\n",
    "\n",
    "# For RNN Layer\n",
    "from keras.models import Sequential\n",
    "from keras.layers import Embedding, GRU, LSTM, Bidirectional\n",
    "from keras.layers import Dense, Dropout, Activation, Input,  Flatten\n",
    "\n",
    "# import numpy as np\n",
    "# from tensorflow import keras\n",
    "# from tensorflow.keras import layers\n",
    "\n",
    "# For CNN Layer\n",
    "from keras.layers import Conv1D, MaxPooling1D\n",
    "\n",
    "# For Text Summarization\n",
    "from gensim.summarization import summarize\n",
    "\n",
    "%tensorflow_version 1.x"
   ]
  },
  {
   "cell_type": "markdown",
   "metadata": {
    "colab_type": "text",
    "id": "c_eQFuKC0Ajj"
   },
   "source": [
    "# Step 2 : Importing preprocessed Dataset generated in ML Notebook"
   ]
  },
  {
   "cell_type": "code",
   "execution_count": 5,
   "metadata": {
    "colab": {},
    "colab_type": "code",
    "id": "wQzg0-ulGJQe"
   },
   "outputs": [],
   "source": [
    "filename= \"/content/drive/My Drive/Colab Notebooks/final_dataframe_forDeep_Learning_Model.csv\"\n",
    "df = pd.read_csv(filename)"
   ]
  },
  {
   "cell_type": "markdown",
   "metadata": {
    "colab_type": "text",
    "id": "6WuvYMcYG6uq"
   },
   "source": [
    "# Step 3 : Label Encoding of Target variable"
   ]
  },
  {
   "cell_type": "code",
   "execution_count": 6,
   "metadata": {
    "colab": {
     "base_uri": "https://localhost:8080/",
     "height": 101
    },
    "colab_type": "code",
    "id": "vn55oXipo11n",
    "outputId": "3b8bf81a-b4f8-4daa-aae3-79a901bdf243"
   },
   "outputs": [
    {
     "data": {
      "text/plain": [
       "array([ 8, 30, 41, 52, 63, 74, 79, 80,  9, 10, 11, 12, 13, 14, 15, 16, 17,\n",
       "       18, 19, 20, 21, 22, 23, 24, 25, 26, 27, 28, 29, 31, 32, 34, 35, 36,\n",
       "       37, 38, 39, 40, 42, 43, 44, 45, 46, 47, 48, 49, 50, 51, 53, 54, 55,\n",
       "       56, 57, 58, 59, 60, 61, 62, 64, 65, 33, 66, 67, 68, 69, 70, 71, 72,\n",
       "       73, 75, 76, 77, 78,  2,  3,  0,  1,  4,  6,  5,  7])"
      ]
     },
     "execution_count": 6,
     "metadata": {
      "tags": []
     },
     "output_type": "execute_result"
    }
   ],
   "source": [
    "# label_encoder object knows how to understand word labels. \n",
    "label_encoder = preprocessing.LabelEncoder() \n",
    "  \n",
    "# Encode labels in column 'species'. \n",
    "df['Assignment group'] = label_encoder.fit_transform(df['Assignment group']) \n",
    "  \n",
    "df['Assignment group'].unique() "
   ]
  },
  {
   "cell_type": "markdown",
   "metadata": {
    "colab_type": "text",
    "id": "2PXwgWh81K7A"
   },
   "source": [
    "# Step 4 :Tokenizing and Padding the Independent features ('Complete Description')"
   ]
  },
  {
   "cell_type": "code",
   "execution_count": 7,
   "metadata": {
    "colab": {},
    "colab_type": "code",
    "id": "13mQUKT9GeHv"
   },
   "outputs": [],
   "source": [
    "MAX_LENGTH = 300\n",
    "tokenizer = Tokenizer()\n",
    "tokenizer.fit_on_texts(df.Complete_Description.values)\n",
    "post_seq = tokenizer.texts_to_sequences(df.Complete_Description.values)\n",
    "post_seq_padded = pad_sequences(post_seq, maxlen=MAX_LENGTH)"
   ]
  },
  {
   "cell_type": "code",
   "execution_count": 8,
   "metadata": {
    "colab": {},
    "colab_type": "code",
    "id": "ZGHDQxiikuvh"
   },
   "outputs": [],
   "source": [
    "y = df['Assignment group']"
   ]
  },
  {
   "cell_type": "markdown",
   "metadata": {
    "colab_type": "text",
    "id": "-lpkasmY1e6u"
   },
   "source": [
    "# Step 5 :Splitting the data into Train and Test (Ratio = 0.30)"
   ]
  },
  {
   "cell_type": "code",
   "execution_count": 9,
   "metadata": {
    "colab": {},
    "colab_type": "code",
    "id": "xvQeiyJFEB0w"
   },
   "outputs": [],
   "source": [
    "X_train, X_test, y_train, y_test = train_test_split(post_seq_padded, y, test_size=0.3, random_state=1)"
   ]
  },
  {
   "cell_type": "code",
   "execution_count": 10,
   "metadata": {
    "colab": {
     "base_uri": "https://localhost:8080/",
     "height": 34
    },
    "colab_type": "code",
    "id": "3n5gR6soECdh",
    "outputId": "deb2b89d-118f-4ff0-8a31-161a7ce21c83"
   },
   "outputs": [
    {
     "data": {
      "text/plain": [
       "((36560, 300), (15669, 300))"
      ]
     },
     "execution_count": 10,
     "metadata": {
      "tags": []
     },
     "output_type": "execute_result"
    }
   ],
   "source": [
    "X_train.shape,X_test.shape"
   ]
  },
  {
   "cell_type": "code",
   "execution_count": 11,
   "metadata": {
    "colab": {
     "base_uri": "https://localhost:8080/",
     "height": 34
    },
    "colab_type": "code",
    "id": "b2s0PPNgEEeY",
    "outputId": "45cc1286-f0c3-4082-82f1-be949333e98a"
   },
   "outputs": [
    {
     "data": {
      "text/plain": [
       "((36560,), (15669,))"
      ]
     },
     "execution_count": 11,
     "metadata": {
      "tags": []
     },
     "output_type": "execute_result"
    }
   ],
   "source": [
    "y_train.shape, y_test.shape"
   ]
  },
  {
   "cell_type": "markdown",
   "metadata": {
    "colab_type": "text",
    "id": "3b3yEK-Z1r_z"
   },
   "source": [
    "# Step 6 :Creating input dimension ('vocab_size')"
   ]
  },
  {
   "cell_type": "code",
   "execution_count": 12,
   "metadata": {
    "colab": {
     "base_uri": "https://localhost:8080/",
     "height": 34
    },
    "colab_type": "code",
    "id": "4L6z5NFQEGap",
    "outputId": "a4975497-e9d1-433a-94b6-eebde25e3c87"
   },
   "outputs": [
    {
     "data": {
      "text/plain": [
       "16390"
      ]
     },
     "execution_count": 12,
     "metadata": {
      "tags": []
     },
     "output_type": "execute_result"
    }
   ],
   "source": [
    "vocab_size = len(tokenizer.word_index) + 1\n",
    "max_features = vocab_size \n",
    "vocab_size"
   ]
  },
  {
   "cell_type": "markdown",
   "metadata": {
    "colab_type": "text",
    "id": "UrFJ0Wei14iS"
   },
   "source": [
    "# Step 7 :Creating Output dimension ('num_class')"
   ]
  },
  {
   "cell_type": "code",
   "execution_count": 13,
   "metadata": {
    "colab": {
     "base_uri": "https://localhost:8080/",
     "height": 34
    },
    "colab_type": "code",
    "id": "un8mxCrplYkr",
    "outputId": "46f227ef-1a2c-448c-df47-52ee2b794c47"
   },
   "outputs": [
    {
     "data": {
      "text/plain": [
       "81"
      ]
     },
     "execution_count": 13,
     "metadata": {
      "tags": []
     },
     "output_type": "execute_result"
    }
   ],
   "source": [
    "num_class = len(np.unique(df['Assignment group'].values))\n",
    "num_class"
   ]
  },
  {
   "cell_type": "markdown",
   "metadata": {
    "colab_type": "text",
    "id": "Y_qi4VoWE6e5"
   },
   "source": [
    "# Step 8 :Creating sequential Model with LSTM"
   ]
  },
  {
   "cell_type": "code",
   "execution_count": null,
   "metadata": {
    "colab": {
     "base_uri": "https://localhost:8080/",
     "height": 420
    },
    "colab_type": "code",
    "id": "hKZ-jBuWxJEs",
    "outputId": "def03696-9156-46fb-a96f-00138311bb78"
   },
   "outputs": [
    {
     "name": "stdout",
     "output_type": "stream",
     "text": [
      "Model: \"model_1\"\n",
      "_________________________________________________________________\n",
      "Layer (type)                 Output Shape              Param #   \n",
      "=================================================================\n",
      "input_1 (InputLayer)         (None, 300)               0         \n",
      "_________________________________________________________________\n",
      "embedding_1 (Embedding)      (None, 300, 128)          2097920   \n",
      "_________________________________________________________________\n",
      "dropout_1 (Dropout)          (None, 300, 128)          0         \n",
      "_________________________________________________________________\n",
      "lstm_1 (LSTM)                (None, 300, 64)           49408     \n",
      "_________________________________________________________________\n",
      "lstm_2 (LSTM)                (None, 64)                33024     \n",
      "_________________________________________________________________\n",
      "dropout_2 (Dropout)          (None, 64)                0         \n",
      "_________________________________________________________________\n",
      "dense_1 (Dense)              (None, 32)                2080      \n",
      "_________________________________________________________________\n",
      "dense_2 (Dense)              (None, 81)                2673      \n",
      "=================================================================\n",
      "Total params: 2,185,105\n",
      "Trainable params: 2,185,105\n",
      "Non-trainable params: 0\n",
      "_________________________________________________________________\n"
     ]
    }
   ],
   "source": [
    "# Input for variable-length sequences of integers\n",
    "inputs = keras.Input(shape=(MAX_LENGTH, ), dtype=\"int32\")\n",
    "\n",
    "# Embed each integer in a 128-dimensional vector\n",
    "x = layers.Embedding(max_features, 128)(inputs)\n",
    "x = layers.Dropout(0.2)(x)\n",
    "\n",
    "# Add 2 LSTM layers\n",
    "x = layers.LSTM(64, return_sequences=True)(x)\n",
    "x = layers.LSTM(64, return_sequences=False)(x)\n",
    "\n",
    "x = layers.Dropout(0.2)(x)\n",
    "x = layers.Dense(32, activation='relu')(x)\n",
    "outputs = layers.Dense(num_class, activation='softmax')(x)\n",
    "\n",
    "# Add a classifier\n",
    "lstm_model = keras.Model(inputs, outputs)\n",
    "lstm_model.summary()"
   ]
  },
  {
   "cell_type": "code",
   "execution_count": null,
   "metadata": {
    "colab": {},
    "colab_type": "code",
    "id": "0-VpWQ98xn1v"
   },
   "outputs": [],
   "source": [
    "lstm_model.compile(optimizer='adam',\n",
    "              loss='sparse_categorical_crossentropy',\n",
    "              metrics=['acc'])"
   ]
  },
  {
   "cell_type": "code",
   "execution_count": null,
   "metadata": {
    "colab": {
     "base_uri": "https://localhost:8080/",
     "height": 339
    },
    "colab_type": "code",
    "id": "XzZxjvV1xtC_",
    "outputId": "8ab571eb-67b9-4381-8d8e-8dfd74e9398e"
   },
   "outputs": [
    {
     "name": "stderr",
     "output_type": "stream",
     "text": [
      "/usr/local/lib/python3.6/dist-packages/tensorflow/python/framework/indexed_slices.py:434: UserWarning: Converting sparse IndexedSlices to a dense Tensor of unknown shape. This may consume a large amount of memory.\n",
      "  \"Converting sparse IndexedSlices to a dense Tensor of unknown shape. \"\n"
     ]
    },
    {
     "name": "stdout",
     "output_type": "stream",
     "text": [
      "Train on 36560 samples, validate on 15669 samples\n",
      "Epoch 1/7\n",
      "36560/36560 [==============================] - 1551s 42ms/step - loss: 1.9082 - acc: 0.5113 - val_loss: 0.8525 - val_acc: 0.7704\n",
      "Epoch 2/7\n",
      "36560/36560 [==============================] - 1556s 43ms/step - loss: 0.6161 - acc: 0.8363 - val_loss: 0.5228 - val_acc: 0.8673\n",
      "Epoch 3/7\n",
      "36560/36560 [==============================] - 1549s 42ms/step - loss: 0.3811 - acc: 0.8970 - val_loss: 0.3482 - val_acc: 0.9142\n",
      "Epoch 4/7\n",
      "36560/36560 [==============================] - 1534s 42ms/step - loss: 0.2723 - acc: 0.9261 - val_loss: 0.3143 - val_acc: 0.9223\n",
      "Epoch 5/7\n",
      "36560/36560 [==============================] - 1542s 42ms/step - loss: 0.2103 - acc: 0.9418 - val_loss: 0.2820 - val_acc: 0.9350\n",
      "Epoch 6/7\n",
      "36560/36560 [==============================] - 1526s 42ms/step - loss: 0.1680 - acc: 0.9549 - val_loss: 0.2638 - val_acc: 0.9408\n",
      "Epoch 7/7\n",
      "36560/36560 [==============================] - 1519s 42ms/step - loss: 0.1369 - acc: 0.9626 - val_loss: 0.2618 - val_acc: 0.9474\n"
     ]
    },
    {
     "data": {
      "text/plain": [
       "<keras.callbacks.callbacks.History at 0x7fb6fc787080>"
      ]
     },
     "execution_count": 19,
     "metadata": {
      "tags": []
     },
     "output_type": "execute_result"
    }
   ],
   "source": [
    "# lstm_model.fit([X_train], batch_size=20, y=(y_train), verbose=1, validation_split=0.30, epochs=7)\n",
    "lstm_model.fit(X_train, y_train, batch_size=20, epochs=7, validation_data=(X_test, y_test))"
   ]
  },
  {
   "cell_type": "code",
   "execution_count": null,
   "metadata": {
    "colab": {
     "base_uri": "https://localhost:8080/",
     "height": 34
    },
    "colab_type": "code",
    "id": "u-eeo-qcx7bJ",
    "outputId": "c170391e-b5c9-4bb5-e4ac-1fdd46a1e93d"
   },
   "outputs": [
    {
     "data": {
      "text/plain": [
       "0.947412087561427"
      ]
     },
     "execution_count": 20,
     "metadata": {
      "tags": []
     },
     "output_type": "execute_result"
    }
   ],
   "source": [
    "lstm_predicted = lstm_model.predict(X_test)\n",
    "lstm_predicted = np.argmax(lstm_predicted, axis=1)\n",
    "accuracy_score(y_test, lstm_predicted)"
   ]
  },
  {
   "cell_type": "code",
   "execution_count": null,
   "metadata": {
    "colab": {},
    "colab_type": "code",
    "id": "Qb73-ytKE3s1"
   },
   "outputs": [],
   "source": []
  },
  {
   "cell_type": "markdown",
   "metadata": {
    "colab_type": "text",
    "id": "_nlLlBjI0vmS"
   },
   "source": [
    "# Step 9 : Implementing GRU "
   ]
  },
  {
   "cell_type": "code",
   "execution_count": null,
   "metadata": {
    "colab": {},
    "colab_type": "code",
    "id": "ZTagjfHG0ujh"
   },
   "outputs": [],
   "source": [
    "max_features = vocab_size  \n",
    "maxlen = MAX_LENGTH\n",
    "seq_output_size = 128\n",
    "filters = 64\n",
    "kernel_size = 5\n",
    "pool_size = 4\n",
    "activation_func = 'sigmoid'"
   ]
  },
  {
   "cell_type": "code",
   "execution_count": null,
   "metadata": {
    "colab": {
     "base_uri": "https://localhost:8080/",
     "height": 420
    },
    "colab_type": "code",
    "id": "weO2Pmfx0-N1",
    "outputId": "3b006e29-046b-46f6-d9dc-478b2dc01182"
   },
   "outputs": [
    {
     "name": "stdout",
     "output_type": "stream",
     "text": [
      "Model: \"model_1\"\n",
      "_________________________________________________________________\n",
      "Layer (type)                 Output Shape              Param #   \n",
      "=================================================================\n",
      "input_1 (InputLayer)         (None, None)              0         \n",
      "_________________________________________________________________\n",
      "embedding_1 (Embedding)      (None, None, 128)         2097920   \n",
      "_________________________________________________________________\n",
      "dropout_1 (Dropout)          (None, None, 128)         0         \n",
      "_________________________________________________________________\n",
      "conv1d_1 (Conv1D)            (None, None, 64)          41024     \n",
      "_________________________________________________________________\n",
      "max_pooling1d_1 (MaxPooling1 (None, None, 64)          0         \n",
      "_________________________________________________________________\n",
      "gru_1 (GRU)                  (None, 128)               74112     \n",
      "_________________________________________________________________\n",
      "dense_1 (Dense)              (None, 1)                 129       \n",
      "_________________________________________________________________\n",
      "dense_2 (Dense)              (None, 81)                162       \n",
      "=================================================================\n",
      "Total params: 2,213,347\n",
      "Trainable params: 2,213,347\n",
      "Non-trainable params: 0\n",
      "_________________________________________________________________\n"
     ]
    }
   ],
   "source": [
    "# GRU \n",
    "# Input for variable-length sequences of integers\n",
    "inputs = keras.Input(shape=(None,), dtype=\"int32\")\n",
    "# Embed each integer in a 128-dimensional vector\n",
    "# x = layers.Add(Sequential())(inputs)\n",
    "x = layers.Embedding(max_features, 128)(inputs)\n",
    "x = layers.Dropout(0.2)(x)\n",
    "x = layers.Conv1D(filters,\n",
    "                 kernel_size,\n",
    "                 padding='valid',\n",
    "                 activation='relu',\n",
    "                 strides=1)(x)\n",
    "x = layers.MaxPooling1D(pool_size=pool_size)(x)\n",
    "# Add GRU\n",
    "x = layers.GRU(seq_output_size, dropout=0.2, recurrent_dropout=0.2)(x)\n",
    "x = layers.Dense(1)(x)\n",
    "# outputs = layers.Activation('sigmoid')(x)\n",
    "outputs = layers.Dense(num_class, activation='softmax')(x)\n",
    "# Add a classifier\n",
    "gru_model = keras.Model(inputs, outputs)\n",
    "gru_model.summary()"
   ]
  },
  {
   "cell_type": "code",
   "execution_count": null,
   "metadata": {
    "colab": {
     "base_uri": "https://localhost:8080/",
     "height": 339
    },
    "colab_type": "code",
    "id": "8zy2A3lg1Add",
    "outputId": "4d93e3c2-0490-4fcd-8ebd-4bff2e50001c"
   },
   "outputs": [
    {
     "name": "stderr",
     "output_type": "stream",
     "text": [
      "/usr/local/lib/python3.6/dist-packages/tensorflow/python/framework/indexed_slices.py:434: UserWarning: Converting sparse IndexedSlices to a dense Tensor of unknown shape. This may consume a large amount of memory.\n",
      "  \"Converting sparse IndexedSlices to a dense Tensor of unknown shape. \"\n"
     ]
    },
    {
     "name": "stdout",
     "output_type": "stream",
     "text": [
      "Train on 36560 samples, validate on 15669 samples\n",
      "Epoch 1/7\n",
      "36560/36560 [==============================] - 286s 8ms/step - loss: 3.8434 - acc: 0.0307 - val_loss: 3.5350 - val_acc: 0.0476\n",
      "Epoch 2/7\n",
      "36560/36560 [==============================] - 278s 8ms/step - loss: 3.4778 - acc: 0.0616 - val_loss: 3.3870 - val_acc: 0.0548\n",
      "Epoch 3/7\n",
      "36560/36560 [==============================] - 276s 8ms/step - loss: 3.2342 - acc: 0.0869 - val_loss: 3.2651 - val_acc: 0.0863\n",
      "Epoch 4/7\n",
      "36560/36560 [==============================] - 275s 8ms/step - loss: 3.1039 - acc: 0.1171 - val_loss: 3.1823 - val_acc: 0.1134\n",
      "Epoch 5/7\n",
      "36560/36560 [==============================] - 273s 7ms/step - loss: 222.9329 - acc: 0.1228 - val_loss: 3.2095 - val_acc: 0.1025\n",
      "Epoch 6/7\n",
      "36560/36560 [==============================] - 272s 7ms/step - loss: 3.0228 - acc: 0.1286 - val_loss: 3.1199 - val_acc: 0.1472\n",
      "Epoch 7/7\n",
      "36560/36560 [==============================] - 272s 7ms/step - loss: 2.9322 - acc: 0.1475 - val_loss: 3.0749 - val_acc: 0.1373\n"
     ]
    },
    {
     "data": {
      "text/plain": [
       "<keras.callbacks.callbacks.History at 0x7f3e75c44048>"
      ]
     },
     "execution_count": 17,
     "metadata": {
      "tags": []
     },
     "output_type": "execute_result"
    }
   ],
   "source": [
    "gru_model.compile(optimizer='adam',\n",
    "              loss='sparse_categorical_crossentropy',\n",
    "              metrics=['acc'])\n",
    "gru_model.fit(X_train, y_train, batch_size=20, epochs=7, validation_data=(X_test, y_test))"
   ]
  },
  {
   "cell_type": "code",
   "execution_count": null,
   "metadata": {
    "colab": {
     "base_uri": "https://localhost:8080/",
     "height": 34
    },
    "colab_type": "code",
    "id": "6enA4KGl1DHN",
    "outputId": "5affd2bf-4fac-488a-9f19-240a4b34c1b2"
   },
   "outputs": [
    {
     "data": {
      "text/plain": [
       "0.13734124704831197"
      ]
     },
     "execution_count": 18,
     "metadata": {
      "tags": []
     },
     "output_type": "execute_result"
    }
   ],
   "source": [
    "gru_predicted = gru_model.predict(X_test)\n",
    "gru_predicted = np.argmax(gru_predicted, axis=1)\n",
    "accuracy_score(y_test, gru_predicted)"
   ]
  },
  {
   "cell_type": "markdown",
   "metadata": {
    "colab_type": "text",
    "id": "Jl8HUyta1eF4"
   },
   "source": [
    "# Step 10 : Implementing Bi LSTM"
   ]
  },
  {
   "cell_type": "code",
   "execution_count": null,
   "metadata": {
    "colab": {},
    "colab_type": "code",
    "id": "VTFHqwL51fVv"
   },
   "outputs": [],
   "source": [
    "max_features = vocab_size  \n",
    "maxlen = 200\n",
    "seq_output_size = 128\n",
    "filters = 64\n",
    "kernel_size = 5\n",
    "pool_size = 4\n",
    "activation_func = 'sigmoid'"
   ]
  },
  {
   "cell_type": "code",
   "execution_count": null,
   "metadata": {
    "colab": {
     "base_uri": "https://localhost:8080/",
     "height": 420
    },
    "colab_type": "code",
    "id": "CYykXQ371jG_",
    "outputId": "5aa3c1af-1dce-4688-efd0-d1ef3bdf87c4"
   },
   "outputs": [
    {
     "name": "stdout",
     "output_type": "stream",
     "text": [
      "Model: \"model_2\"\n",
      "_________________________________________________________________\n",
      "Layer (type)                 Output Shape              Param #   \n",
      "=================================================================\n",
      "input_2 (InputLayer)         (None, None)              0         \n",
      "_________________________________________________________________\n",
      "embedding_2 (Embedding)      (None, None, 128)         2097920   \n",
      "_________________________________________________________________\n",
      "dropout_2 (Dropout)          (None, None, 128)         0         \n",
      "_________________________________________________________________\n",
      "bidirectional_1 (Bidirection (None, None, 128)         98816     \n",
      "_________________________________________________________________\n",
      "bidirectional_2 (Bidirection (None, 128)               98816     \n",
      "_________________________________________________________________\n",
      "dropout_3 (Dropout)          (None, 128)               0         \n",
      "_________________________________________________________________\n",
      "dense_3 (Dense)              (None, 32)                4128      \n",
      "_________________________________________________________________\n",
      "dense_4 (Dense)              (None, 81)                2673      \n",
      "=================================================================\n",
      "Total params: 2,302,353\n",
      "Trainable params: 2,302,353\n",
      "Non-trainable params: 0\n",
      "_________________________________________________________________\n"
     ]
    }
   ],
   "source": [
    "# Bi directional LSTM\n",
    "# Input for variable-length sequences of integers\n",
    "inputs = keras.Input(shape=(None,), dtype=\"int32\")\n",
    "# Embed each integer in a 128-dimensional vector\n",
    "x = layers.Embedding(max_features, 128)(inputs)\n",
    "x = layers.Dropout(0.2)(x)\n",
    "# Add 2 bidirectional LSTMs\n",
    "x = layers.Bidirectional(layers.LSTM(64, return_sequences=True))(x)\n",
    "x = layers.Bidirectional(layers.LSTM(64))(x)\n",
    "x = layers.Dropout(0.2)(x)\n",
    "x = layers.Dense(32, activation='relu')(x)\n",
    "outputs = layers.Dense(num_class, activation='softmax')(x)\n",
    "# Add a classifier\n",
    "bilstm_model = keras.Model(inputs, outputs)\n",
    "bilstm_model.summary()"
   ]
  },
  {
   "cell_type": "code",
   "execution_count": null,
   "metadata": {
    "colab": {
     "base_uri": "https://localhost:8080/",
     "height": 339
    },
    "colab_type": "code",
    "id": "_cJ1d0wY2XG6",
    "outputId": "f7419b7e-c8db-4a81-b78f-d6e010ab2ba3"
   },
   "outputs": [
    {
     "name": "stderr",
     "output_type": "stream",
     "text": [
      "/usr/local/lib/python3.6/dist-packages/tensorflow/python/framework/indexed_slices.py:434: UserWarning: Converting sparse IndexedSlices to a dense Tensor of unknown shape. This may consume a large amount of memory.\n",
      "  \"Converting sparse IndexedSlices to a dense Tensor of unknown shape. \"\n"
     ]
    },
    {
     "name": "stdout",
     "output_type": "stream",
     "text": [
      "Train on 36560 samples, validate on 15669 samples\n",
      "Epoch 1/7\n",
      "36560/36560 [==============================] - 2887s 79ms/step - loss: 1.7656 - acc: 0.5609 - val_loss: 0.6578 - val_acc: 0.8306\n",
      "Epoch 2/7\n",
      "36560/36560 [==============================] - 2846s 78ms/step - loss: 0.5187 - acc: 0.8636 - val_loss: 0.4106 - val_acc: 0.8863\n",
      "Epoch 3/7\n",
      "36560/36560 [==============================] - 2839s 78ms/step - loss: 0.3040 - acc: 0.9187 - val_loss: 0.3001 - val_acc: 0.9267\n",
      "Epoch 4/7\n",
      "36560/36560 [==============================] - 2839s 78ms/step - loss: 0.2291 - acc: 0.9383 - val_loss: 0.2984 - val_acc: 0.9261\n",
      "Epoch 5/7\n",
      "36560/36560 [==============================] - 2834s 78ms/step - loss: 0.1703 - acc: 0.9539 - val_loss: 0.2551 - val_acc: 0.9423\n",
      "Epoch 6/7\n",
      "36560/36560 [==============================] - 2828s 77ms/step - loss: 0.1357 - acc: 0.9637 - val_loss: 0.2698 - val_acc: 0.9387\n",
      "Epoch 7/7\n",
      "36560/36560 [==============================] - 2823s 77ms/step - loss: 0.1203 - acc: 0.9673 - val_loss: 0.2663 - val_acc: 0.9427\n"
     ]
    },
    {
     "data": {
      "text/plain": [
       "<keras.callbacks.callbacks.History at 0x7f3e004abc18>"
      ]
     },
     "execution_count": 21,
     "metadata": {
      "tags": []
     },
     "output_type": "execute_result"
    }
   ],
   "source": [
    "#model.compile(\"adam\", \"binary_crossentropy\", metrics=[\"accuracy\"])\n",
    "bilstm_model.compile(optimizer='adam',\n",
    "              loss='sparse_categorical_crossentropy',\n",
    "              metrics=['acc'])\n",
    "bilstm_model.fit(X_train, y_train, batch_size=20, epochs=7, validation_data=(X_test, y_test))"
   ]
  }
 ],
 "metadata": {
  "accelerator": "GPU",
  "colab": {
   "collapsed_sections": [],
   "machine_shape": "hm",
   "name": "Deeplearning_models_Ticket_assignment_Capstone.ipynb",
   "provenance": []
  },
  "kernelspec": {
   "display_name": "Python 3",
   "language": "python",
   "name": "python3"
  },
  "language_info": {
   "codemirror_mode": {
    "name": "ipython",
    "version": 3
   },
   "file_extension": ".py",
   "mimetype": "text/x-python",
   "name": "python",
   "nbconvert_exporter": "python",
   "pygments_lexer": "ipython3",
   "version": "3.7.6"
  }
 },
 "nbformat": 4,
 "nbformat_minor": 4
}
